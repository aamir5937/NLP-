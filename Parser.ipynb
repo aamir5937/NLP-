{
 "cells": [
  {
   "cell_type": "code",
   "execution_count": 29,
   "id": "a4f7ffe9",
   "metadata": {},
   "outputs": [
    {
     "name": "stdout",
     "output_type": "stream",
     "text": [
      "Requirement already satisfied: pdfminer3 in /Users/abdullahmazhar/opt/anaconda3/lib/python3.9/site-packages (2018.12.3.0)\r\n",
      "Requirement already satisfied: sortedcontainers in /Users/abdullahmazhar/opt/anaconda3/lib/python3.9/site-packages (from pdfminer3) (2.4.0)\r\n",
      "Requirement already satisfied: chardet in /Users/abdullahmazhar/opt/anaconda3/lib/python3.9/site-packages (from pdfminer3) (4.0.0)\r\n",
      "Requirement already satisfied: pycryptodome in /Users/abdullahmazhar/opt/anaconda3/lib/python3.9/site-packages (from pdfminer3) (3.14.1)\r\n"
     ]
    }
   ],
   "source": [
    "!pip install pdfminer3"
   ]
  },
  {
   "cell_type": "markdown",
   "id": "e3024ee5",
   "metadata": {},
   "source": [
    "## Installing Spacy and loading spacy english model\n"
   ]
  },
  {
   "cell_type": "code",
   "execution_count": 135,
   "id": "98a1deb3",
   "metadata": {},
   "outputs": [
    {
     "name": "stdout",
     "output_type": "stream",
     "text": [
      "Requirement already satisfied: spacy in /Users/abdullahmazhar/opt/anaconda3/lib/python3.9/site-packages (3.2.4)\n",
      "Requirement already satisfied: pydantic!=1.8,!=1.8.1,<1.9.0,>=1.7.4 in /Users/abdullahmazhar/opt/anaconda3/lib/python3.9/site-packages (from spacy) (1.8.2)\n",
      "Requirement already satisfied: numpy>=1.15.0 in /Users/abdullahmazhar/opt/anaconda3/lib/python3.9/site-packages (from spacy) (1.20.3)\n",
      "Requirement already satisfied: packaging>=20.0 in /Users/abdullahmazhar/opt/anaconda3/lib/python3.9/site-packages (from spacy) (21.0)\n",
      "Requirement already satisfied: murmurhash<1.1.0,>=0.28.0 in /Users/abdullahmazhar/opt/anaconda3/lib/python3.9/site-packages (from spacy) (1.0.6)\n",
      "Requirement already satisfied: catalogue<2.1.0,>=2.0.6 in /Users/abdullahmazhar/opt/anaconda3/lib/python3.9/site-packages (from spacy) (2.0.7)\n",
      "Requirement already satisfied: setuptools in /Users/abdullahmazhar/opt/anaconda3/lib/python3.9/site-packages (from spacy) (58.0.4)\n",
      "Requirement already satisfied: click<8.1.0 in /Users/abdullahmazhar/opt/anaconda3/lib/python3.9/site-packages (from spacy) (8.0.3)\n",
      "Requirement already satisfied: pathy>=0.3.5 in /Users/abdullahmazhar/opt/anaconda3/lib/python3.9/site-packages (from spacy) (0.6.1)\n",
      "Requirement already satisfied: langcodes<4.0.0,>=3.2.0 in /Users/abdullahmazhar/opt/anaconda3/lib/python3.9/site-packages (from spacy) (3.3.0)\n",
      "Requirement already satisfied: preshed<3.1.0,>=3.0.2 in /Users/abdullahmazhar/opt/anaconda3/lib/python3.9/site-packages (from spacy) (3.0.6)\n",
      "Requirement already satisfied: spacy-legacy<3.1.0,>=3.0.8 in /Users/abdullahmazhar/opt/anaconda3/lib/python3.9/site-packages (from spacy) (3.0.9)\n",
      "Requirement already satisfied: thinc<8.1.0,>=8.0.12 in /Users/abdullahmazhar/opt/anaconda3/lib/python3.9/site-packages (from spacy) (8.0.15)\n",
      "Requirement already satisfied: wasabi<1.1.0,>=0.8.1 in /Users/abdullahmazhar/opt/anaconda3/lib/python3.9/site-packages (from spacy) (0.9.1)\n",
      "Requirement already satisfied: typer<0.5.0,>=0.3.0 in /Users/abdullahmazhar/opt/anaconda3/lib/python3.9/site-packages (from spacy) (0.4.1)\n",
      "Requirement already satisfied: tqdm<5.0.0,>=4.38.0 in /Users/abdullahmazhar/opt/anaconda3/lib/python3.9/site-packages (from spacy) (4.62.3)\n",
      "Requirement already satisfied: jinja2 in /Users/abdullahmazhar/opt/anaconda3/lib/python3.9/site-packages (from spacy) (2.11.3)\n",
      "Requirement already satisfied: spacy-loggers<2.0.0,>=1.0.0 in /Users/abdullahmazhar/opt/anaconda3/lib/python3.9/site-packages (from spacy) (1.0.2)\n",
      "Requirement already satisfied: blis<0.8.0,>=0.4.0 in /Users/abdullahmazhar/opt/anaconda3/lib/python3.9/site-packages (from spacy) (0.7.7)\n",
      "Requirement already satisfied: srsly<3.0.0,>=2.4.1 in /Users/abdullahmazhar/opt/anaconda3/lib/python3.9/site-packages (from spacy) (2.4.2)\n",
      "Requirement already satisfied: requests<3.0.0,>=2.13.0 in /Users/abdullahmazhar/opt/anaconda3/lib/python3.9/site-packages (from spacy) (2.26.0)\n",
      "Requirement already satisfied: cymem<2.1.0,>=2.0.2 in /Users/abdullahmazhar/opt/anaconda3/lib/python3.9/site-packages (from spacy) (2.0.6)\n",
      "Requirement already satisfied: pyparsing>=2.0.2 in /Users/abdullahmazhar/opt/anaconda3/lib/python3.9/site-packages (from packaging>=20.0->spacy) (3.0.4)\n",
      "Requirement already satisfied: smart-open<6.0.0,>=5.0.0 in /Users/abdullahmazhar/opt/anaconda3/lib/python3.9/site-packages (from pathy>=0.3.5->spacy) (5.2.1)\n",
      "Requirement already satisfied: typing-extensions>=3.7.4.3 in /Users/abdullahmazhar/opt/anaconda3/lib/python3.9/site-packages (from pydantic!=1.8,!=1.8.1,<1.9.0,>=1.7.4->spacy) (3.10.0.2)\n",
      "Requirement already satisfied: urllib3<1.27,>=1.21.1 in /Users/abdullahmazhar/opt/anaconda3/lib/python3.9/site-packages (from requests<3.0.0,>=2.13.0->spacy) (1.26.7)\n",
      "Requirement already satisfied: idna<4,>=2.5 in /Users/abdullahmazhar/opt/anaconda3/lib/python3.9/site-packages (from requests<3.0.0,>=2.13.0->spacy) (3.2)\n",
      "Requirement already satisfied: charset-normalizer~=2.0.0 in /Users/abdullahmazhar/opt/anaconda3/lib/python3.9/site-packages (from requests<3.0.0,>=2.13.0->spacy) (2.0.4)\n",
      "Requirement already satisfied: certifi>=2017.4.17 in /Users/abdullahmazhar/opt/anaconda3/lib/python3.9/site-packages (from requests<3.0.0,>=2.13.0->spacy) (2021.10.8)\n",
      "Requirement already satisfied: MarkupSafe>=0.23 in /Users/abdullahmazhar/opt/anaconda3/lib/python3.9/site-packages (from jinja2->spacy) (1.1.1)\n",
      "Requirement already satisfied: pandas in /Users/abdullahmazhar/opt/anaconda3/lib/python3.9/site-packages (1.3.4)\n",
      "Requirement already satisfied: python-dateutil>=2.7.3 in /Users/abdullahmazhar/opt/anaconda3/lib/python3.9/site-packages (from pandas) (2.8.2)\n",
      "Requirement already satisfied: pytz>=2017.3 in /Users/abdullahmazhar/opt/anaconda3/lib/python3.9/site-packages (from pandas) (2021.3)\n",
      "Requirement already satisfied: numpy>=1.17.3 in /Users/abdullahmazhar/opt/anaconda3/lib/python3.9/site-packages (from pandas) (1.20.3)\n",
      "Requirement already satisfied: six>=1.5 in /Users/abdullahmazhar/opt/anaconda3/lib/python3.9/site-packages (from python-dateutil>=2.7.3->pandas) (1.16.0)\n",
      "Requirement already satisfied: nltk in /Users/abdullahmazhar/opt/anaconda3/lib/python3.9/site-packages (3.6.5)\n",
      "Requirement already satisfied: click in /Users/abdullahmazhar/opt/anaconda3/lib/python3.9/site-packages (from nltk) (8.0.3)\n",
      "Requirement already satisfied: joblib in /Users/abdullahmazhar/opt/anaconda3/lib/python3.9/site-packages (from nltk) (1.1.0)\n",
      "Requirement already satisfied: regex>=2021.8.3 in /Users/abdullahmazhar/opt/anaconda3/lib/python3.9/site-packages (from nltk) (2021.8.3)\n",
      "Requirement already satisfied: tqdm in /Users/abdullahmazhar/opt/anaconda3/lib/python3.9/site-packages (from nltk) (4.62.3)\n",
      "Collecting en-core-web-sm==3.2.0\n",
      "  Downloading https://github.com/explosion/spacy-models/releases/download/en_core_web_sm-3.2.0/en_core_web_sm-3.2.0-py3-none-any.whl (13.9 MB)\n",
      "\u001b[K     |████████████████████████████████| 13.9 MB 2.1 MB/s eta 0:00:01\n",
      "\u001b[?25hRequirement already satisfied: spacy<3.3.0,>=3.2.0 in /Users/abdullahmazhar/opt/anaconda3/lib/python3.9/site-packages (from en-core-web-sm==3.2.0) (3.2.4)\n",
      "Requirement already satisfied: langcodes<4.0.0,>=3.2.0 in /Users/abdullahmazhar/opt/anaconda3/lib/python3.9/site-packages (from spacy<3.3.0,>=3.2.0->en-core-web-sm==3.2.0) (3.3.0)\n",
      "Requirement already satisfied: wasabi<1.1.0,>=0.8.1 in /Users/abdullahmazhar/opt/anaconda3/lib/python3.9/site-packages (from spacy<3.3.0,>=3.2.0->en-core-web-sm==3.2.0) (0.9.1)\n",
      "Requirement already satisfied: srsly<3.0.0,>=2.4.1 in /Users/abdullahmazhar/opt/anaconda3/lib/python3.9/site-packages (from spacy<3.3.0,>=3.2.0->en-core-web-sm==3.2.0) (2.4.2)\n",
      "Requirement already satisfied: typer<0.5.0,>=0.3.0 in /Users/abdullahmazhar/opt/anaconda3/lib/python3.9/site-packages (from spacy<3.3.0,>=3.2.0->en-core-web-sm==3.2.0) (0.4.1)\n",
      "Requirement already satisfied: setuptools in /Users/abdullahmazhar/opt/anaconda3/lib/python3.9/site-packages (from spacy<3.3.0,>=3.2.0->en-core-web-sm==3.2.0) (58.0.4)\n",
      "Requirement already satisfied: jinja2 in /Users/abdullahmazhar/opt/anaconda3/lib/python3.9/site-packages (from spacy<3.3.0,>=3.2.0->en-core-web-sm==3.2.0) (2.11.3)\n",
      "Requirement already satisfied: tqdm<5.0.0,>=4.38.0 in /Users/abdullahmazhar/opt/anaconda3/lib/python3.9/site-packages (from spacy<3.3.0,>=3.2.0->en-core-web-sm==3.2.0) (4.62.3)\n",
      "Requirement already satisfied: thinc<8.1.0,>=8.0.12 in /Users/abdullahmazhar/opt/anaconda3/lib/python3.9/site-packages (from spacy<3.3.0,>=3.2.0->en-core-web-sm==3.2.0) (8.0.15)\n",
      "Requirement already satisfied: pathy>=0.3.5 in /Users/abdullahmazhar/opt/anaconda3/lib/python3.9/site-packages (from spacy<3.3.0,>=3.2.0->en-core-web-sm==3.2.0) (0.6.1)\n",
      "Requirement already satisfied: pydantic!=1.8,!=1.8.1,<1.9.0,>=1.7.4 in /Users/abdullahmazhar/opt/anaconda3/lib/python3.9/site-packages (from spacy<3.3.0,>=3.2.0->en-core-web-sm==3.2.0) (1.8.2)\n",
      "Requirement already satisfied: preshed<3.1.0,>=3.0.2 in /Users/abdullahmazhar/opt/anaconda3/lib/python3.9/site-packages (from spacy<3.3.0,>=3.2.0->en-core-web-sm==3.2.0) (3.0.6)\n",
      "Requirement already satisfied: catalogue<2.1.0,>=2.0.6 in /Users/abdullahmazhar/opt/anaconda3/lib/python3.9/site-packages (from spacy<3.3.0,>=3.2.0->en-core-web-sm==3.2.0) (2.0.7)\n",
      "Requirement already satisfied: packaging>=20.0 in /Users/abdullahmazhar/opt/anaconda3/lib/python3.9/site-packages (from spacy<3.3.0,>=3.2.0->en-core-web-sm==3.2.0) (21.0)\n",
      "Requirement already satisfied: blis<0.8.0,>=0.4.0 in /Users/abdullahmazhar/opt/anaconda3/lib/python3.9/site-packages (from spacy<3.3.0,>=3.2.0->en-core-web-sm==3.2.0) (0.7.7)\n",
      "Requirement already satisfied: numpy>=1.15.0 in /Users/abdullahmazhar/opt/anaconda3/lib/python3.9/site-packages (from spacy<3.3.0,>=3.2.0->en-core-web-sm==3.2.0) (1.20.3)\n",
      "Requirement already satisfied: cymem<2.1.0,>=2.0.2 in /Users/abdullahmazhar/opt/anaconda3/lib/python3.9/site-packages (from spacy<3.3.0,>=3.2.0->en-core-web-sm==3.2.0) (2.0.6)\n",
      "Requirement already satisfied: murmurhash<1.1.0,>=0.28.0 in /Users/abdullahmazhar/opt/anaconda3/lib/python3.9/site-packages (from spacy<3.3.0,>=3.2.0->en-core-web-sm==3.2.0) (1.0.6)\n",
      "Requirement already satisfied: click<8.1.0 in /Users/abdullahmazhar/opt/anaconda3/lib/python3.9/site-packages (from spacy<3.3.0,>=3.2.0->en-core-web-sm==3.2.0) (8.0.3)\n",
      "Requirement already satisfied: spacy-loggers<2.0.0,>=1.0.0 in /Users/abdullahmazhar/opt/anaconda3/lib/python3.9/site-packages (from spacy<3.3.0,>=3.2.0->en-core-web-sm==3.2.0) (1.0.2)\n",
      "Requirement already satisfied: spacy-legacy<3.1.0,>=3.0.8 in /Users/abdullahmazhar/opt/anaconda3/lib/python3.9/site-packages (from spacy<3.3.0,>=3.2.0->en-core-web-sm==3.2.0) (3.0.9)\n",
      "Requirement already satisfied: requests<3.0.0,>=2.13.0 in /Users/abdullahmazhar/opt/anaconda3/lib/python3.9/site-packages (from spacy<3.3.0,>=3.2.0->en-core-web-sm==3.2.0) (2.26.0)\n",
      "Requirement already satisfied: pyparsing>=2.0.2 in /Users/abdullahmazhar/opt/anaconda3/lib/python3.9/site-packages (from packaging>=20.0->spacy<3.3.0,>=3.2.0->en-core-web-sm==3.2.0) (3.0.4)\n",
      "Requirement already satisfied: smart-open<6.0.0,>=5.0.0 in /Users/abdullahmazhar/opt/anaconda3/lib/python3.9/site-packages (from pathy>=0.3.5->spacy<3.3.0,>=3.2.0->en-core-web-sm==3.2.0) (5.2.1)\n"
     ]
    },
    {
     "name": "stdout",
     "output_type": "stream",
     "text": [
      "Requirement already satisfied: typing-extensions>=3.7.4.3 in /Users/abdullahmazhar/opt/anaconda3/lib/python3.9/site-packages (from pydantic!=1.8,!=1.8.1,<1.9.0,>=1.7.4->spacy<3.3.0,>=3.2.0->en-core-web-sm==3.2.0) (3.10.0.2)\n",
      "Requirement already satisfied: charset-normalizer~=2.0.0 in /Users/abdullahmazhar/opt/anaconda3/lib/python3.9/site-packages (from requests<3.0.0,>=2.13.0->spacy<3.3.0,>=3.2.0->en-core-web-sm==3.2.0) (2.0.4)\n",
      "Requirement already satisfied: idna<4,>=2.5 in /Users/abdullahmazhar/opt/anaconda3/lib/python3.9/site-packages (from requests<3.0.0,>=2.13.0->spacy<3.3.0,>=3.2.0->en-core-web-sm==3.2.0) (3.2)\n",
      "Requirement already satisfied: certifi>=2017.4.17 in /Users/abdullahmazhar/opt/anaconda3/lib/python3.9/site-packages (from requests<3.0.0,>=2.13.0->spacy<3.3.0,>=3.2.0->en-core-web-sm==3.2.0) (2021.10.8)\n",
      "Requirement already satisfied: urllib3<1.27,>=1.21.1 in /Users/abdullahmazhar/opt/anaconda3/lib/python3.9/site-packages (from requests<3.0.0,>=2.13.0->spacy<3.3.0,>=3.2.0->en-core-web-sm==3.2.0) (1.26.7)\n",
      "Requirement already satisfied: MarkupSafe>=0.23 in /Users/abdullahmazhar/opt/anaconda3/lib/python3.9/site-packages (from jinja2->spacy<3.3.0,>=3.2.0->en-core-web-sm==3.2.0) (1.1.1)\n",
      "\u001b[38;5;2m✔ Download and installation successful\u001b[0m\n",
      "You can now load the package via spacy.load('en_core_web_sm')\n",
      "zsh:1: unknown sort specifier\n"
     ]
    }
   ],
   "source": [
    "!pip install spacy\n",
    "!pip install pandas\n",
    "!pip install nltk\n",
    "!python3 -m spacy download en_core_web_sm\n",
    "!python3 -m nltk nltk.download('words')"
   ]
  },
  {
   "cell_type": "markdown",
   "id": "5f83bf7f",
   "metadata": {},
   "source": [
    "## Importing all the necessary librabries\n",
    "### 1.  pdfminer3\n",
    "#### For processing pdf, i had gone through many libraries by google searches and i found every library has its own strength and weakness.Some of them were pypdf2, pdfplumber, textract and pdfminer3. The result with the pdfminer3 was good as expected.\n",
    "### 2. Spacy \n",
    "#### For extracting informations from Resume using Matcher\n",
    "### 3. NLTK\n",
    "#### For stopwords"
   ]
  },
  {
   "cell_type": "code",
   "execution_count": 152,
   "id": "38d8f608",
   "metadata": {},
   "outputs": [
    {
     "name": "stderr",
     "output_type": "stream",
     "text": [
      "[nltk_data] Downloading package stopwords to\n",
      "[nltk_data]     /Users/abdullahmazhar/nltk_data...\n",
      "[nltk_data]   Package stopwords is already up-to-date!\n"
     ]
    },
    {
     "data": {
      "text/plain": [
       "True"
      ]
     },
     "execution_count": 152,
     "metadata": {},
     "output_type": "execute_result"
    }
   ],
   "source": [
    "import re\n",
    "import spacy\n",
    "from nltk.corpus import stopwords\n",
    "import pandas as pd\n",
    "from spacy.matcher import Matcher\n",
    "import nltk\n",
    "nltk.download('stopwords')\n"
   ]
  },
  {
   "cell_type": "markdown",
   "id": "37bd6df2",
   "metadata": {},
   "source": [
    "## File Path"
   ]
  },
  {
   "cell_type": "code",
   "execution_count": 138,
   "id": "4685639a",
   "metadata": {},
   "outputs": [],
   "source": [
    "file_path = 'Amircv.pdf'"
   ]
  },
  {
   "cell_type": "markdown",
   "id": "691c4d67",
   "metadata": {},
   "source": [
    "## Extracting Text from PDF using PDFMINER"
   ]
  },
  {
   "cell_type": "code",
   "execution_count": 139,
   "id": "8ba7fe77",
   "metadata": {},
   "outputs": [],
   "source": [
    "from pdfminer3.layout import LAParams, LTTextBox\n",
    "from pdfminer3.pdfpage import PDFPage\n",
    "from pdfminer3.pdfinterp import PDFResourceManager\n",
    "from pdfminer3.pdfinterp import PDFPageInterpreter\n",
    "from pdfminer3.converter import PDFPageAggregator\n",
    "from pdfminer3.converter import TextConverter\n",
    "import io\n",
    "\n",
    "\n",
    "def extract_text_pdf(file_path):\n",
    "    resource_manager = PDFResourceManager()\n",
    "    fake_file_handle = io.StringIO()\n",
    "    converter = TextConverter(resource_manager, fake_file_handle, laparams=LAParams())\n",
    "    page_interpreter = PDFPageInterpreter(resource_manager, converter)\n",
    "\n",
    "    with open(file_path, 'rb') as fh:\n",
    "\n",
    "        for page in PDFPage.get_pages(fh,\n",
    "                                      caching=True,\n",
    "                                      check_extractable=True):\n",
    "            page_interpreter.process_page(page)\n",
    "\n",
    "        text = fake_file_handle.getvalue()\n",
    "\n",
    "    # close open handles\n",
    "    converter.close()\n",
    "    fake_file_handle.close()\n",
    "   \n",
    "    return text\n",
    "\n",
    "\n"
   ]
  },
  {
   "cell_type": "markdown",
   "id": "3fb47f73",
   "metadata": {},
   "source": [
    "## Extracting Name using Spacy Matcher"
   ]
  },
  {
   "cell_type": "code",
   "execution_count": 140,
   "id": "c6319592",
   "metadata": {},
   "outputs": [],
   "source": [
    "\n",
    "\n",
    "# load pre-trained model\n",
    "nlp = spacy.load('en_core_web_sm')\n",
    "\n",
    "# initialize matcher with a vocab\n",
    "matcher = Matcher(nlp.vocab)\n",
    "\n",
    "def extract_name(resume_text):\n",
    "    nlp_text = nlp(resume_text)\n",
    "    \n",
    "    # First name and Last name are always Proper Nouns\n",
    "    pattern = [{'POS': 'PROPN'}, {'POS': 'PROPN'}]\n",
    "    \n",
    "    matcher.add('NAME', [pattern])\n",
    "    \n",
    "    matches = matcher(nlp_text)\n",
    "    \n",
    "    for match_id, start, end in matches:\n",
    "        span = nlp_text[start:end]\n",
    "        \n",
    "        return span.text"
   ]
  },
  {
   "cell_type": "markdown",
   "id": "f2354797",
   "metadata": {},
   "source": [
    "## Extracting Mobile Number using Regex"
   ]
  },
  {
   "cell_type": "code",
   "execution_count": 163,
   "id": "714fbb58",
   "metadata": {},
   "outputs": [],
   "source": [
    "def extract_mobile_number(text):\n",
    "    phone = re.findall(re.compile(r'(?:(?:\\+?([1-9]|[0-9][0-9]|[0-9][0-9][0-9])\\s*(?:[.-]\\s*)?)?(?:\\(\\s*([2-9]1[02-9]|[2-9][02-8]1|[2-9][02-8][02-9])\\s*\\)|([0-9][1-9]|[0-9]1[02-9]|[2-9][02-8]1|[2-9][02-8][02-9]))\\s*(?:[.-]\\s*)?)?([2-9]1[02-9]|[2-9][02-9]1|[2-9][02-9]{2})\\s*(?:[.-]\\s*)?([0-9]{4})(?:\\s*(?:#|x\\.?|ext\\.?|extension)\\s*(\\d+))?'), text)\n",
    "\n",
    "    if phone:\n",
    "        number = ''.join(phone[0])\n",
    "        \n",
    "        if len(number) > 10:\n",
    "            return '+' + number\n",
    "        else:\n",
    "            return number"
   ]
  },
  {
   "cell_type": "markdown",
   "id": "e3df23cc",
   "metadata": {},
   "source": [
    "## Extracting Email using Regex"
   ]
  },
  {
   "cell_type": "code",
   "execution_count": 164,
   "id": "7425dd43",
   "metadata": {},
   "outputs": [],
   "source": [
    "def extract_email(text):\n",
    "    email = re.findall(\"([^@|\\s]+@[^@]+\\.[^@|\\s]+)\", text)\n",
    "    if email:\n",
    "        try:\n",
    "            return email[0].split()[0].strip(';')\n",
    "        except IndexError:\n",
    "            return None\n",
    "\n",
    "\n"
   ]
  },
  {
   "cell_type": "markdown",
   "id": "e9e0e0d2",
   "metadata": {},
   "source": [
    "## Extracting Skills"
   ]
  },
  {
   "cell_type": "code",
   "execution_count": 165,
   "id": "bc968082",
   "metadata": {},
   "outputs": [],
   "source": [
    "def extract_skills(resume_text):\n",
    "    nlp_text = nlp(resume_text)\n",
    "    noun_chunks = nlp_text.noun_chunks\n",
    "    # removing stop words and implementing word tokenization\n",
    "    tokens = [token.text for token in nlp_text if not token.is_stop]\n",
    "    # reading txt file of skills\n",
    "    data = pd.read_csv(\"skills.csv\") \n",
    "  \n",
    "    # extract values\n",
    "    skills = list(data.columns)\n",
    "    \n",
    "    skillset = []\n",
    "    # check for one-grams (example: python)\n",
    "    for token in tokens:\n",
    "        \n",
    "        if token.lower() in skills:\n",
    "            skillset.append(token)\n",
    "            \n",
    "    \n",
    "#     # check for bi-grams and tri-grams (example: machine learning)\n",
    "    for token in noun_chunks:\n",
    "        token = token.text.lower().strip()\n",
    "        if token in skills:\n",
    "            skillset.append(token)\n",
    "    \n",
    "   \n",
    "    return [i.capitalize() for i in set([i.lower() for i in skillset])]\n",
    "\n"
   ]
  },
  {
   "cell_type": "markdown",
   "id": "a5f70464",
   "metadata": {},
   "source": [
    "## Extracting Education using NLTK"
   ]
  },
  {
   "cell_type": "code",
   "execution_count": 166,
   "id": "504ae9a7",
   "metadata": {},
   "outputs": [],
   "source": [
    "\n",
    "# load pre-trained model\n",
    "nlp = spacy.load('en_core_web_sm')\n",
    "\n",
    "# Grad all general stop words\n",
    "STOPWORDS = set(stopwords.words('english'))\n",
    "\n",
    "# Education Degrees\n",
    "EDUCATION = [\n",
    "            'BE','B.E.', 'B.E', 'BS', 'B.S', \n",
    "            'ME', 'M.E', 'M.E.', 'MS', 'M.S', \n",
    "            'BTECH', 'B.TECH', 'M.TECH', 'MTECH', \n",
    "            'SSC', 'HSC', 'CBSE', 'ICSE', 'X', 'XII', 'MBA'\n",
    "        ]\n",
    "\n",
    "def extract_education(text):\n",
    "    nlp_text = nlp(text)\n",
    "\n",
    "    # Sentence Tokenizer\n",
    "    nlp_text = [sent.text.strip() for sent in nlp_text.sents]\n",
    "\n",
    "    edu = {}\n",
    "    # Extract education degree\n",
    "    for index, text in enumerate(nlp_text):\n",
    "        for tex in text.split():\n",
    "            # Replace all special symbols\n",
    "            tex = re.sub(r'[?|$|.|!|,]', r'', tex)\n",
    "            if tex.upper() in EDUCATION and tex not in STOPWORDS:\n",
    "                edu[tex] = text + nlp_text[index + 1]\n",
    "\n",
    "    # Extract year\n",
    "    education = []\n",
    "    for key in edu.keys():\n",
    "        year = re.search(re.compile(r'(((20|19)(\\d{2})))'), edu[key])\n",
    "        if year:\n",
    "            education.append((key, ''.join(year[0])))\n",
    "        else:\n",
    "            education.append(key)\n",
    "    return education"
   ]
  },
  {
   "cell_type": "markdown",
   "id": "91b86a53",
   "metadata": {},
   "source": [
    "## Main function to call every other functions"
   ]
  },
  {
   "cell_type": "code",
   "execution_count": 167,
   "id": "4c995812",
   "metadata": {},
   "outputs": [],
   "source": [
    "def resumeparser(file_path):\n",
    "    resume_text = extract_text_pdf(file_path)\n",
    "    name = extract_name(resume_text)\n",
    "    print('1. Name:',name)\n",
    "    mobile_number = extract_mobile_number(resume_text)\n",
    "    print('2. Mobile Number:',mobile_number)\n",
    "    email_ID = extract_email(resume_text)\n",
    "    print('2. Email ID:',email_ID)\n",
    "    skills = extract_skills(resume_text)\n",
    "    print('3. Skills:',skills)\n",
    "    education = extract_education(resume_text)\n",
    "    print('4. Education:',education)\n",
    "    "
   ]
  },
  {
   "cell_type": "markdown",
   "id": "14e72fd0",
   "metadata": {},
   "source": [
    "## Calling Main Function"
   ]
  },
  {
   "cell_type": "code",
   "execution_count": 168,
   "id": "405b4836",
   "metadata": {},
   "outputs": [
    {
     "name": "stdout",
     "output_type": "stream",
     "text": [
      "1. Name: Amir Mazhar\n",
      "2. Mobile Number: 9026297309\n",
      "2. Email ID: amirmazhar126@gmail.com\n",
      "3. Skills: ['Nlp', 'Ml']\n",
      "4. Education: [('MBA', '2019'), ('BTech', '2015')]\n"
     ]
    }
   ],
   "source": [
    "resumeparser(file_path)"
   ]
  }
 ],
 "metadata": {
  "kernelspec": {
   "display_name": "Python 3 (ipykernel)",
   "language": "python",
   "name": "python3"
  },
  "language_info": {
   "codemirror_mode": {
    "name": "ipython",
    "version": 3
   },
   "file_extension": ".py",
   "mimetype": "text/x-python",
   "name": "python",
   "nbconvert_exporter": "python",
   "pygments_lexer": "ipython3",
   "version": "3.9.7"
  }
 },
 "nbformat": 4,
 "nbformat_minor": 5
}
